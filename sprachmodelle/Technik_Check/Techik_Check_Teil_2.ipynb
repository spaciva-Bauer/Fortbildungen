{
 "cells": [
  {
   "cell_type": "markdown",
   "id": "89be8b6a-7bc5-470c-b027-093b5fd81863",
   "metadata": {},
   "source": [
    "# Technik-Check zur Fortbildung \"Sprachmodelle\""
   ]
  },
  {
   "cell_type": "markdown",
   "id": "9c0d996d-ef7f-406e-a743-186625c1c987",
   "metadata": {},
   "source": [
    "### Installation der benötigten Python-Module"
   ]
  },
  {
   "cell_type": "code",
   "execution_count": null,
   "id": "0fcd3754-dcb9-49b3-bc6e-3ca4f9931438",
   "metadata": {},
   "outputs": [],
   "source": [
    "pip install torch --index-url https://download.pytorch.org/whl/cpu"
   ]
  },
  {
   "cell_type": "code",
   "execution_count": null,
   "id": "c64c1839-e9c6-4136-9d86-26668b6874a0",
   "metadata": {},
   "outputs": [],
   "source": [
    "pip install transformers"
   ]
  },
  {
   "cell_type": "code",
   "execution_count": null,
   "id": "ef406f1e-53bb-4dcd-893b-de4904048a08",
   "metadata": {},
   "outputs": [],
   "source": [
    "pip install openai"
   ]
  },
  {
   "cell_type": "code",
   "execution_count": null,
   "id": "abd5acab-212f-45de-9db3-cc0524ee7133",
   "metadata": {},
   "outputs": [],
   "source": [
    "pip install ollama"
   ]
  },
  {
   "cell_type": "markdown",
   "id": "cf1be72a-893f-4111-940e-8f21b8dd142b",
   "metadata": {},
   "source": [
    "### Import der benötigten Python-Module"
   ]
  },
  {
   "cell_type": "code",
   "execution_count": null,
   "id": "05a300a6-6022-4a4a-89d5-4e837c1d9c36",
   "metadata": {},
   "outputs": [],
   "source": [
    "import ollama"
   ]
  },
  {
   "cell_type": "code",
   "execution_count": null,
   "id": "145fff78-8432-44a6-8a7a-8f8cc070ca4f",
   "metadata": {},
   "outputs": [],
   "source": [
    "from openai import OpenAI"
   ]
  },
  {
   "cell_type": "code",
   "execution_count": null,
   "id": "a2b1bf53-8924-468c-8cd0-122202d48675",
   "metadata": {},
   "outputs": [],
   "source": [
    "from transformers import pipeline"
   ]
  },
  {
   "cell_type": "markdown",
   "id": "99145482-843b-4a88-82a5-e5023eafd42c",
   "metadata": {},
   "source": [
    "### Kurztest der Funktionalität"
   ]
  },
  {
   "cell_type": "markdown",
   "id": "f97d7e7b-894c-4cba-a64e-495aff1334c1",
   "metadata": {},
   "source": [
    "> huggingface"
   ]
  },
  {
   "cell_type": "code",
   "execution_count": null,
   "id": "42b65211-e280-4de4-96a8-304b52aed89e",
   "metadata": {},
   "outputs": [],
   "source": [
    "pipe = pipeline(\"text-generation\", model=\"LiquidAI/LFM2-350M\", device=0, max_new_tokens=500, temperature=0.5)\n",
    "messages = [\n",
    "    {\"role\": \"system\", \"content\": \"Du bist ein Chatbot. Antworte immer total genervt und trotzig.\"},\n",
    "    {\"role\": \"user\", \"content\": \"Weißt Du wie ich heiße\"}\n",
    "]\n",
    "antwortprompt = pipe(messages)\n",
    "antwortprompt"
   ]
  },
  {
   "cell_type": "markdown",
   "id": "711b6d13-f1a4-455b-95a0-3441f1c9cb69",
   "metadata": {},
   "source": [
    "> ollama"
   ]
  },
  {
   "cell_type": "code",
   "execution_count": null,
   "id": "511ee822-1b69-45e0-ae87-0f379fae4b4e",
   "metadata": {},
   "outputs": [],
   "source": [
    "messages1 = [\n",
    "    {\"role\": \"system\", \"content\": \"Du bist ein Chatbot. Antworte immer total genervt und trotzig.\"},\n",
    "    {\"role\": \"user\", \"content\": \"Wer bin ich?\"},\n",
    "]\n",
    "\n",
    "antwort1 = ollama.chat(\n",
    "    model=\"gemma3:1b\",\n",
    "    messages=messages1,\n",
    "options = {\n",
    "  'temperature': 0.5\n",
    "}\n",
    ")\n",
    "\n",
    "print(antwort1['message']['content'])"
   ]
  },
  {
   "cell_type": "markdown",
   "id": "8dfc6a7d-eaec-4e53-9ba7-0496afa3585e",
   "metadata": {},
   "source": [
    "> OpenAI"
   ]
  },
  {
   "cell_type": "code",
   "execution_count": null,
   "id": "847a1cd3-10a8-474b-973d-ef5b640a383f",
   "metadata": {},
   "outputs": [],
   "source": [
    "OPENAI_API_KEY=\"\""
   ]
  },
  {
   "cell_type": "code",
   "execution_count": null,
   "id": "00c7d36b-4b4f-40d8-8a54-24660aa8d64d",
   "metadata": {},
   "outputs": [],
   "source": [
    "mein_client = OpenAI(api_key=OPENAI_API_KEY)\n",
    "\n",
    "messages1 = [\n",
    "    {\"role\": \"system\", \"content\": \"Du bist ein Chatbot. Antworte immer total genervt und trotzig.\"},\n",
    "    {\"role\": \"user\", \"content\": \"Weißt Du wer ich bin?\"},\n",
    "]\n",
    "\n",
    "antwort1 = mein_client.responses.create(\n",
    "    model=\"gpt-4.1-mini\",\n",
    "    input=messages1, max_output_tokens=100, temperature=0)\n",
    "\n",
    "print(antwort1.output[0].content[0].text)"
   ]
  }
 ],
 "metadata": {
  "kernelspec": {
   "display_name": "Python 3 (ipykernel)",
   "language": "python",
   "name": "python3"
  },
  "language_info": {
   "codemirror_mode": {
    "name": "ipython",
    "version": 3
   },
   "file_extension": ".py",
   "mimetype": "text/x-python",
   "name": "python",
   "nbconvert_exporter": "python",
   "pygments_lexer": "ipython3",
   "version": "3.13.7"
  }
 },
 "nbformat": 4,
 "nbformat_minor": 5
}
